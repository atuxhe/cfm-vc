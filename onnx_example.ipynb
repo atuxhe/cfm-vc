{
 "cells": [
  {
   "cell_type": "code",
   "execution_count": 2,
   "metadata": {},
   "outputs": [],
   "source": [
    "import onnxruntime as ort\n",
    "import onnx\n",
    "import torch\n",
    "import numpy as np"
   ]
  },
  {
   "cell_type": "code",
   "execution_count": 9,
   "metadata": {},
   "outputs": [
    {
     "name": "stdout",
     "output_type": "stream",
     "text": [
      "<onnxruntime.capi.onnxruntime_pybind11_state.SessionOptions object at 0x7f33d0f22a30>\n",
      "[[ 0.00052413 -0.00021696 -0.00067223 ... -0.0011278  -0.00347674\n",
      "   0.00043508]]\n"
     ]
    }
   ],
   "source": [
    "onnx_model_path = \"/home/alexander/Projekte/so-vits-svc/logs/22k/model.onnx\"\n",
    "onnx_model = onnx.load(onnx_model_path)\n",
    "onnx.checker.check_model(onnx_model)\n",
    "\n",
    "# Adding ONNX runtime test\n",
    "test_input = {\n",
    "    \"c\": torch.rand(1, 120, 768).numpy(),\n",
    "    \"f0\": torch.rand(1, 120).numpy(),\n",
    "    \"mel2ph\": torch.arange(0, 120, dtype=torch.int64)[None].numpy(),\n",
    "    \"uv\": torch.ones(1, 120, dtype=torch.float32).numpy(),\n",
    "    \"noise\": torch.FloatTensor([0.5]).numpy(),\n",
    "    \"sid\": torch.randn(1, 512).numpy(),\n",
    "}\n",
    "\n",
    "\n",
    "# # Replace torch tensors with numpy ndarrays for ONNX runtime\n",
    "# test_input_np = [tensor.numpy() for tensor in test_input]\n",
    "\n",
    "# Test\n",
    "ort_session = ort.InferenceSession(onnx_model_path)\n",
    "\n",
    "# Prepare input data as a dictionary\n",
    "print(ort_session.get_session_options())\n",
    "# Run ONNX inference\n",
    "predictions = ort_session.run(None, test_input)\n",
    "\n",
    "print(predictions[0][0])"
   ]
  }
 ],
 "metadata": {
  "kernelspec": {
   "display_name": "Python 3",
   "language": "python",
   "name": "python3"
  },
  "language_info": {
   "codemirror_mode": {
    "name": "ipython",
    "version": 3
   },
   "file_extension": ".py",
   "mimetype": "text/x-python",
   "name": "python",
   "nbconvert_exporter": "python",
   "pygments_lexer": "ipython3",
   "version": "3.10.12"
  }
 },
 "nbformat": 4,
 "nbformat_minor": 2
}
